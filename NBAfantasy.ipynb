{
 "cells": [
  {
   "cell_type": "code",
   "execution_count": 1,
   "metadata": {},
   "outputs": [],
   "source": [
    "using CSV\n",
    "nba = CSV.read(\"nba.csv\", header = 1, types=Dict(:Salary => Int));\n",
    "position = nba[!, [:C, :PF, :SF, :SG, :PG]];\n",
    "Salary = nba[:,:Salary];\n",
    "Score = nba[!,:FantasyScore];"
   ]
  },
  {
   "cell_type": "code",
   "execution_count": 2,
   "metadata": {},
   "outputs": [],
   "source": [
    "using JuMP, Clp\n",
    "m = Model()\n",
    "@variable(m, 1 >= selected[1:444] >= 0)\n",
    "@constraint(m, sum(selected[i] for i in 1:444) == 12)  #pick up 12 players\n",
    "@constraint(m, 109000000 .<= sum(selected[i] * Salary[i] for i in 1:444) .<= 132000000)    # Salary Constraint  \n",
    "@constraint(m, sum(selected[i] * (position[i,:SG]+ position[i,:PG]) for i in 1:444) .>= 6) # more than 6 guards in a team  \n",
    "@constraint(m, sum(selected[i] * (position[i,:SF]+ position[i,:PF]) for i in 1:444) .>= 4) # more than 4 fronts\n",
    "@constraint(m, sum(selected[i] * (position[i,:C]) for i in 1:444) .>= 1)  # at least one center\n",
    "@objective(m, Max, sum(selected[i]*Score[i] for i in 1:444))\n",
    ";"
   ]
  },
  {
   "cell_type": "code",
   "execution_count": 3,
   "metadata": {},
   "outputs": [
    {
     "name": "stdout",
     "output_type": "stream",
     "text": [
      "termination status: OPTIMAL\n",
      "Coin0506I Presolve 5 (0) rows, 443 (-1) columns and 1487 (-3) elements\n",
      "Clp0006I 0  Obj 0 Primal inf 92.236468 (5) Dual inf 508.00743 (151)\n",
      "Clp0006I 4  Obj 107.93799\n",
      "Clp0000I Optimal - objective value 107.93799\n",
      "Clp0032I Optimal objective 107.9379883 - 4 iterations time 0.002\n"
     ]
    }
   ],
   "source": [
    "set_optimizer(m, with_optimizer(Clp.Optimizer))\n",
    "optimize!(m)\n",
    "println(\"termination status: \", termination_status(m))"
   ]
  },
  {
   "cell_type": "code",
   "execution_count": 4,
   "metadata": {},
   "outputs": [
    {
     "data": {
      "text/plain": [
       "12-element Array{String,1}:\n",
       " \"James Harden\"   \n",
       " \"Anthony Davis\"  \n",
       " \"Trae Young\"     \n",
       " \"John Collins?\"  \n",
       " \"Luka Doncic\"    \n",
       " \"Brandon Ingram\" \n",
       " \"Jayson Tatum\"   \n",
       " \"Deandre Ayton?\" \n",
       " \"Jonathan Isaac?\"\n",
       " \"Pascal Siakam\"  \n",
       " \"Ben Simmons?\"   \n",
       " \"Bam Adebayo\"    "
      ]
     },
     "execution_count": 4,
     "metadata": {},
     "output_type": "execute_result"
    }
   ],
   "source": [
    "y = JuMP.value.(selected)\n",
    "label = findall(x->x>0.5, y)  # pick up if the esimated value >0.5\n",
    "nba[label, :Player]"
   ]
  },
  {
   "cell_type": "code",
   "execution_count": 5,
   "metadata": {},
   "outputs": [
    {
     "data": {
      "text/plain": [
       "125920633"
      ]
     },
     "execution_count": 5,
     "metadata": {},
     "output_type": "execute_result"
    }
   ],
   "source": [
    "sum(Salary[label, :])"
   ]
  },
  {
   "cell_type": "code",
   "execution_count": 6,
   "metadata": {},
   "outputs": [],
   "source": [
    "using JuMP, Clp\n",
    "m = Model()\n",
    "@variable(m, 1 >= selected[1:444] >= 0)\n",
    "@constraint(m, sum(selected[i] for i in 1:444) == 8)  \n",
    "@constraint(m, 109000000 .<= sum(selected[i] * Salary[i] for i in 1:444) .<= 132000000)  \n",
    "@constraint(m, sum(selected[i] * (position[i,:SG]+ position[i,:PG]) for i in 1:444) .>= 3)  \n",
    "@constraint(m, sum(selected[i] * (position[i,:SF]+ position[i,:PF]) for i in 1:444) .>= 2)  \n",
    "@constraint(m, sum(selected[i] * (position[i,:C]) for i in 1:444) .>= 1)  \n",
    "@objective(m, Max, sum(selected[i]*Score[i] for i in 1:444))\n",
    ";"
   ]
  },
  {
   "cell_type": "code",
   "execution_count": 7,
   "metadata": {},
   "outputs": [
    {
     "name": "stdout",
     "output_type": "stream",
     "text": [
      "termination status: OPTIMAL\n",
      "Coin0506I Presolve 5 (0) rows, 443 (-1) columns and 1487 (-3) elements\n",
      "Clp0006I 0  Obj 0 Primal inf 83.932091 (5) Dual inf 508.00743 (151)\n",
      "Clp0006I 3  Obj 86.531453\n",
      "Clp0000I Optimal - objective value 86.531453\n",
      "Clp0032I Optimal objective 86.53145305 - 3 iterations time 0.002\n"
     ]
    }
   ],
   "source": [
    "set_optimizer(m, with_optimizer(Clp.Optimizer))\n",
    "optimize!(m)\n",
    "println(\"termination status: \", termination_status(m))"
   ]
  },
  {
   "cell_type": "code",
   "execution_count": 8,
   "metadata": {},
   "outputs": [
    {
     "data": {
      "text/plain": [
       "8-element Array{String,1}:\n",
       " \"James Harden\"       \n",
       " \"Anthony Davis\"      \n",
       " \"Karl-Anthony Towns?\"\n",
       " \"Trae Young\"         \n",
       " \"John Collins?\"      \n",
       " \"Luka Doncic\"        \n",
       " \"Brandon Ingram\"     \n",
       " \"Pascal Siakam\"      "
      ]
     },
     "execution_count": 8,
     "metadata": {},
     "output_type": "execute_result"
    }
   ],
   "source": [
    "y = JuMP.value.(selected)\n",
    "label = findall(x->x>0.5, y)\n",
    "nba[label, :Player]"
   ]
  },
  {
   "cell_type": "code",
   "execution_count": null,
   "metadata": {},
   "outputs": [],
   "source": []
  }
 ],
 "metadata": {
  "kernelspec": {
   "display_name": "Julia 1.3.1",
   "language": "julia",
   "name": "julia-1.3"
  },
  "language_info": {
   "file_extension": ".jl",
   "mimetype": "application/julia",
   "name": "julia",
   "version": "1.3.1"
  }
 },
 "nbformat": 4,
 "nbformat_minor": 2
}
